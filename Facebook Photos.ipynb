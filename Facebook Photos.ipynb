{
 "cells": [
  {
   "cell_type": "code",
   "execution_count": 5,
   "id": "13625f8a",
   "metadata": {},
   "outputs": [],
   "source": [
    "#imports here\n",
    "from selenium import webdriver\n",
    "from selenium.webdriver.common.keys import Keys\n",
    "from selenium.webdriver.support import expected_conditions as EC\n",
    "from selenium.webdriver.common.by import By\n",
    "from selenium.webdriver.support.wait import WebDriverWait\n",
    "import time"
   ]
  },
  {
   "cell_type": "markdown",
   "id": "79b75f58",
   "metadata": {},
   "source": [
    "# Step 1: Disable Alerts/Notifications\n",
    "!! Using code by pythonjar of Stackoverflow !!\n",
    "\n",
    "\n",
    "Please visit this thread for more details:\n",
    "https://stackoverflow.com/questions/41400934/handle-notifications-in-python-selenium-chrome-webdriver"
   ]
  },
  {
   "cell_type": "code",
   "execution_count": 6,
   "id": "517df643",
   "metadata": {},
   "outputs": [],
   "source": [
    "#code by pythonjar, not me\n",
    "chrome_options = webdriver.ChromeOptions()\n",
    "prefs = {\"profile.default_content_setting_values.notifications\" : 2}\n",
    "chrome_options.add_experimental_option(\"prefs\",prefs)"
   ]
  },
  {
   "cell_type": "markdown",
   "id": "73b9a424",
   "metadata": {},
   "source": [
    "# Step 2: Log into your personal Facebook account\n",
    "MAKE SURE to replace my_username and my_password with your own unique values"
   ]
  },
  {
   "cell_type": "code",
   "execution_count": 103,
   "id": "06e19d41",
   "metadata": {},
   "outputs": [
    {
     "name": "stderr",
     "output_type": "stream",
     "text": [
      "C:\\Users\\Administrator\\AppData\\Local\\Temp\\ipykernel_780\\4126967506.py:2: DeprecationWarning: executable_path has been deprecated, please pass in a Service object\n",
      "  driver = webdriver.Chrome(\"C:/Users/Administrator/chromedriver.exe\", chrome_options=chrome_options)\n",
      "C:\\Users\\Administrator\\AppData\\Local\\Temp\\ipykernel_780\\4126967506.py:2: DeprecationWarning: use options instead of chrome_options\n",
      "  driver = webdriver.Chrome(\"C:/Users/Administrator/chromedriver.exe\", chrome_options=chrome_options)\n"
     ]
    }
   ],
   "source": [
    "#specify the path to chromedriver.exe (download and save on your computer)\n",
    "driver = webdriver.Chrome(\"C:/Users/Administrator/chromedriver.exe\", chrome_options=chrome_options)\n",
    "\n",
    "#open the webpage\n",
    "driver.get(\"http://www.facebook.com\")\n",
    "\n",
    "#target username\n",
    "username = WebDriverWait(driver, 10).until(EC.element_to_be_clickable((By.CSS_SELECTOR, \"input[name='email']\")))\n",
    "password = WebDriverWait(driver, 10).until(EC.element_to_be_clickable((By.CSS_SELECTOR, \"input[name='pass']\")))\n",
    "\n",
    "#enter username and password\n",
    "username.clear()\n",
    "username.send_keys(\"dangthienphuc.1501@gmail.com\")\n",
    "password.clear()\n",
    "password.send_keys(\"1501@Phuc\")\n",
    "\n",
    "#target the login button and click it\n",
    "button = WebDriverWait(driver, 2).until(EC.element_to_be_clickable((By.CSS_SELECTOR, \"button[type='submit']\"))).click()\n",
    "\n",
    "#We are logged in!"
   ]
  },
  {
   "cell_type": "markdown",
   "id": "e8ea020e",
   "metadata": {},
   "source": [
    "# Step 3: Extract All the Photos\n",
    "!! Update goldie.may.750 to your own unique profile address !!\n",
    "\n",
    "* Create an empty list (images)\n",
    "* Loop over all the photos you've ever uploaded (photos_all)\n",
    "* Loop over all the photos you were ever tagged in by other users(photos)\n",
    "* Scroll to the very bottom of the page (or to a certain range)\n",
    "* Extract links to photos\n",
    "* Follow the link and extract store the image inside (images)"
   ]
  },
  {
   "cell_type": "code",
   "execution_count": 104,
   "id": "faf12157",
   "metadata": {},
   "outputs": [],
   "source": [
    "# Acccess photos page\n",
    "driver.get(\"https://www.facebook.com/profile.php?id=100091657797654&sk=photos\")\n",
    "\n",
    "time.sleep(5)\n",
    "\n",
    "for j in range(0,1):\n",
    "    driver.execute_script(\"window.scrollTo(0, document.body.scrollHeight);\")\n",
    "    time.sleep(10)"
   ]
  },
  {
   "cell_type": "code",
   "execution_count": 105,
   "id": "e2180840",
   "metadata": {},
   "outputs": [
    {
     "name": "stdout",
     "output_type": "stream",
     "text": [
      "Found 5 links to images\n"
     ]
    }
   ],
   "source": [
    "# Target anchors impages\n",
    "anchors2 = driver.find_elements(By.TAG_NAME, \"a\")\n",
    "anchors2 = [a.get_attribute('href') for a in anchors2]\n",
    "anchors2 = [a for a in anchors2 if str(a).startswith(\"https://www.facebook.com/photo\")]\n",
    "\n",
    "print('Found ' + str(len(anchors2)) + ' links to images')"
   ]
  },
  {
   "cell_type": "code",
   "execution_count": 106,
   "id": "fbed21c6",
   "metadata": {},
   "outputs": [],
   "source": [
    "# Get links of image attribute (src attributes)\n",
    "images_link = []\n",
    "\n",
    "for link in anchors2:\n",
    "    driver.get(link)\n",
    "    time.sleep(5)\n",
    "    img = driver.find_elements(By.TAG_NAME, \"img\")\n",
    "    images_link.append(img[0].get_attribute(\"src\"))"
   ]
  },
  {
   "cell_type": "markdown",
   "id": "c89fa7fa",
   "metadata": {},
   "source": [
    "# Step 4: Create a new directory in the current folder\n",
    "using OS path"
   ]
  },
  {
   "cell_type": "code",
   "execution_count": 108,
   "id": "9c899d13",
   "metadata": {},
   "outputs": [],
   "source": [
    "import os\n",
    "\n",
    "path = os.getcwd()\n",
    "path = os.path.join(path, \"FB_Scrapped\")\n",
    "\n",
    "# Create directory\n",
    "os.mkdir(path)"
   ]
  },
  {
   "cell_type": "markdown",
   "id": "6add6a4f",
   "metadata": {},
   "source": [
    "# Step 5: Save all the photos in the new directory\n",
    "Using wget"
   ]
  },
  {
   "cell_type": "code",
   "execution_count": 109,
   "id": "06bf6d61",
   "metadata": {},
   "outputs": [],
   "source": [
    "import wget\n",
    "\n",
    "# Download images\n",
    "counter = 0\n",
    "\n",
    "for image in images_link:\n",
    "    save_as = os.path.join(path, str(counter) + \".jpg\")\n",
    "    wget.download(image, save_as)\n",
    "    counter += 1"
   ]
  }
 ],
 "metadata": {
  "kernelspec": {
   "display_name": "Python 3 (ipykernel)",
   "language": "python",
   "name": "python3"
  },
  "language_info": {
   "codemirror_mode": {
    "name": "ipython",
    "version": 3
   },
   "file_extension": ".py",
   "mimetype": "text/x-python",
   "name": "python",
   "nbconvert_exporter": "python",
   "pygments_lexer": "ipython3",
   "version": "3.10.9"
  }
 },
 "nbformat": 4,
 "nbformat_minor": 5
}
